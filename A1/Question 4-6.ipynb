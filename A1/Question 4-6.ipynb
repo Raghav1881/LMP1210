{
  "nbformat": 4,
  "nbformat_minor": 0,
  "metadata": {
    "colab": {
      "provenance": []
    },
    "kernelspec": {
      "name": "python3",
      "display_name": "Python 3"
    },
    "language_info": {
      "name": "python"
    }
  },
  "cells": [
    {
      "cell_type": "code",
      "execution_count": 96,
      "metadata": {
        "id": "QwLNuynQNbKE"
      },
      "outputs": [],
      "source": [
        "import matplotlib.pyplot as plt\n",
        "from sklearn.neighbors import KNeighborsClassifier\n",
        "from sklearn.metrics import accuracy_score\n",
        "from sklearn.preprocessing import LabelEncoder\n",
        "import pandas as pd\n",
        "import numpy as np"
      ]
    },
    {
      "cell_type": "markdown",
      "source": [
        "QUESTION 4 a)"
      ],
      "metadata": {
        "id": "b4Z56Y0eHKVz"
      }
    },
    {
      "cell_type": "code",
      "source": [
        "def load_data():\n",
        "  data_dir = '/content/data/hw1_data.csv'\n",
        "  df = pd.read_csv(data_dir)\n",
        "  df = df.fillna(0)\n",
        "  df = df.sample(frac = 1)\n",
        "  enc = LabelEncoder()\n",
        "  df['Gender'] = enc.fit_transform(df['Gender'].astype('str'))\n",
        "  split_1 = int(0.7 * len(df))\n",
        "  split_2 = int(0.8 * len(df))\n",
        "  train_data = df.iloc[:split_1]\n",
        "  val_data = df.iloc[split_1:split_2]\n",
        "  test_data = df.iloc[split_2:]\n",
        "  return train_data, val_data, test_data"
      ],
      "metadata": {
        "id": "8yKsJjBzPwM1"
      },
      "execution_count": 99,
      "outputs": []
    },
    {
      "cell_type": "code",
      "source": [
        "train_data, val_data, test_data = load_data()"
      ],
      "metadata": {
        "id": "TA67_8qbR3CS"
      },
      "execution_count": 100,
      "outputs": []
    },
    {
      "cell_type": "code",
      "source": [
        "train_data"
      ],
      "metadata": {
        "colab": {
          "base_uri": "https://localhost:8080/",
          "height": 488
        },
        "id": "2AU8xHwuGdFf",
        "outputId": "16f8f16b-b86b-43a9-db4f-beea54577345"
      },
      "execution_count": 101,
      "outputs": [
        {
          "output_type": "execute_result",
          "data": {
            "text/plain": [
              "     Age  Gender  Total_Bilirubin  Direct_Bilirubin  Alkaline_Phosphotase  \\\n",
              "280   58       1              0.8               0.2                   123   \n",
              "496   24       1              1.0               0.2                   189   \n",
              "158   72       1              0.7               0.1                   196   \n",
              "243   28       0              0.9               0.2                   316   \n",
              "118   32       1             15.9               7.0                   280   \n",
              "..   ...     ...              ...               ...                   ...   \n",
              "129   45       1              2.8               1.7                   263   \n",
              "146   66       0              2.9               1.3                   168   \n",
              "562   66       1             17.3               8.5                   388   \n",
              "395   45       1              0.8               0.2                   140   \n",
              "238   35       0              0.9               0.2                   190   \n",
              "\n",
              "     Alamine_Aminotransferase  Aspartate_Aminotransferase  Total_Protiens  \\\n",
              "280                        56                          48             6.0   \n",
              "496                        52                          31             8.0   \n",
              "158                        20                          35             5.8   \n",
              "243                        25                          23             8.5   \n",
              "118                      1350                        1600             5.6   \n",
              "..                        ...                         ...             ...   \n",
              "129                        57                          65             5.1   \n",
              "146                        21                          38             5.5   \n",
              "562                       173                         367             7.8   \n",
              "395                        24                          20             6.3   \n",
              "238                        40                          35             7.3   \n",
              "\n",
              "     Albumin  Albumin_and_Globulin_Ratio  Dataset  \n",
              "280      3.0                         1.0        1  \n",
              "496      4.8                         1.5        1  \n",
              "158      2.0                         0.5        1  \n",
              "243      5.5                         1.8        1  \n",
              "118      2.8                         1.0        1  \n",
              "..       ...                         ...      ...  \n",
              "129      2.3                         0.8        1  \n",
              "146      1.8                         0.4        1  \n",
              "562      2.6                         0.5        1  \n",
              "395      3.2                         1.0        2  \n",
              "238      4.7                         1.8        2  \n",
              "\n",
              "[408 rows x 11 columns]"
            ],
            "text/html": [
              "\n",
              "  <div id=\"df-2674dd1d-4e1e-4cd4-9fad-bc8a4dc4aa2c\">\n",
              "    <div class=\"colab-df-container\">\n",
              "      <div>\n",
              "<style scoped>\n",
              "    .dataframe tbody tr th:only-of-type {\n",
              "        vertical-align: middle;\n",
              "    }\n",
              "\n",
              "    .dataframe tbody tr th {\n",
              "        vertical-align: top;\n",
              "    }\n",
              "\n",
              "    .dataframe thead th {\n",
              "        text-align: right;\n",
              "    }\n",
              "</style>\n",
              "<table border=\"1\" class=\"dataframe\">\n",
              "  <thead>\n",
              "    <tr style=\"text-align: right;\">\n",
              "      <th></th>\n",
              "      <th>Age</th>\n",
              "      <th>Gender</th>\n",
              "      <th>Total_Bilirubin</th>\n",
              "      <th>Direct_Bilirubin</th>\n",
              "      <th>Alkaline_Phosphotase</th>\n",
              "      <th>Alamine_Aminotransferase</th>\n",
              "      <th>Aspartate_Aminotransferase</th>\n",
              "      <th>Total_Protiens</th>\n",
              "      <th>Albumin</th>\n",
              "      <th>Albumin_and_Globulin_Ratio</th>\n",
              "      <th>Dataset</th>\n",
              "    </tr>\n",
              "  </thead>\n",
              "  <tbody>\n",
              "    <tr>\n",
              "      <th>280</th>\n",
              "      <td>58</td>\n",
              "      <td>1</td>\n",
              "      <td>0.8</td>\n",
              "      <td>0.2</td>\n",
              "      <td>123</td>\n",
              "      <td>56</td>\n",
              "      <td>48</td>\n",
              "      <td>6.0</td>\n",
              "      <td>3.0</td>\n",
              "      <td>1.0</td>\n",
              "      <td>1</td>\n",
              "    </tr>\n",
              "    <tr>\n",
              "      <th>496</th>\n",
              "      <td>24</td>\n",
              "      <td>1</td>\n",
              "      <td>1.0</td>\n",
              "      <td>0.2</td>\n",
              "      <td>189</td>\n",
              "      <td>52</td>\n",
              "      <td>31</td>\n",
              "      <td>8.0</td>\n",
              "      <td>4.8</td>\n",
              "      <td>1.5</td>\n",
              "      <td>1</td>\n",
              "    </tr>\n",
              "    <tr>\n",
              "      <th>158</th>\n",
              "      <td>72</td>\n",
              "      <td>1</td>\n",
              "      <td>0.7</td>\n",
              "      <td>0.1</td>\n",
              "      <td>196</td>\n",
              "      <td>20</td>\n",
              "      <td>35</td>\n",
              "      <td>5.8</td>\n",
              "      <td>2.0</td>\n",
              "      <td>0.5</td>\n",
              "      <td>1</td>\n",
              "    </tr>\n",
              "    <tr>\n",
              "      <th>243</th>\n",
              "      <td>28</td>\n",
              "      <td>0</td>\n",
              "      <td>0.9</td>\n",
              "      <td>0.2</td>\n",
              "      <td>316</td>\n",
              "      <td>25</td>\n",
              "      <td>23</td>\n",
              "      <td>8.5</td>\n",
              "      <td>5.5</td>\n",
              "      <td>1.8</td>\n",
              "      <td>1</td>\n",
              "    </tr>\n",
              "    <tr>\n",
              "      <th>118</th>\n",
              "      <td>32</td>\n",
              "      <td>1</td>\n",
              "      <td>15.9</td>\n",
              "      <td>7.0</td>\n",
              "      <td>280</td>\n",
              "      <td>1350</td>\n",
              "      <td>1600</td>\n",
              "      <td>5.6</td>\n",
              "      <td>2.8</td>\n",
              "      <td>1.0</td>\n",
              "      <td>1</td>\n",
              "    </tr>\n",
              "    <tr>\n",
              "      <th>...</th>\n",
              "      <td>...</td>\n",
              "      <td>...</td>\n",
              "      <td>...</td>\n",
              "      <td>...</td>\n",
              "      <td>...</td>\n",
              "      <td>...</td>\n",
              "      <td>...</td>\n",
              "      <td>...</td>\n",
              "      <td>...</td>\n",
              "      <td>...</td>\n",
              "      <td>...</td>\n",
              "    </tr>\n",
              "    <tr>\n",
              "      <th>129</th>\n",
              "      <td>45</td>\n",
              "      <td>1</td>\n",
              "      <td>2.8</td>\n",
              "      <td>1.7</td>\n",
              "      <td>263</td>\n",
              "      <td>57</td>\n",
              "      <td>65</td>\n",
              "      <td>5.1</td>\n",
              "      <td>2.3</td>\n",
              "      <td>0.8</td>\n",
              "      <td>1</td>\n",
              "    </tr>\n",
              "    <tr>\n",
              "      <th>146</th>\n",
              "      <td>66</td>\n",
              "      <td>0</td>\n",
              "      <td>2.9</td>\n",
              "      <td>1.3</td>\n",
              "      <td>168</td>\n",
              "      <td>21</td>\n",
              "      <td>38</td>\n",
              "      <td>5.5</td>\n",
              "      <td>1.8</td>\n",
              "      <td>0.4</td>\n",
              "      <td>1</td>\n",
              "    </tr>\n",
              "    <tr>\n",
              "      <th>562</th>\n",
              "      <td>66</td>\n",
              "      <td>1</td>\n",
              "      <td>17.3</td>\n",
              "      <td>8.5</td>\n",
              "      <td>388</td>\n",
              "      <td>173</td>\n",
              "      <td>367</td>\n",
              "      <td>7.8</td>\n",
              "      <td>2.6</td>\n",
              "      <td>0.5</td>\n",
              "      <td>1</td>\n",
              "    </tr>\n",
              "    <tr>\n",
              "      <th>395</th>\n",
              "      <td>45</td>\n",
              "      <td>1</td>\n",
              "      <td>0.8</td>\n",
              "      <td>0.2</td>\n",
              "      <td>140</td>\n",
              "      <td>24</td>\n",
              "      <td>20</td>\n",
              "      <td>6.3</td>\n",
              "      <td>3.2</td>\n",
              "      <td>1.0</td>\n",
              "      <td>2</td>\n",
              "    </tr>\n",
              "    <tr>\n",
              "      <th>238</th>\n",
              "      <td>35</td>\n",
              "      <td>0</td>\n",
              "      <td>0.9</td>\n",
              "      <td>0.2</td>\n",
              "      <td>190</td>\n",
              "      <td>40</td>\n",
              "      <td>35</td>\n",
              "      <td>7.3</td>\n",
              "      <td>4.7</td>\n",
              "      <td>1.8</td>\n",
              "      <td>2</td>\n",
              "    </tr>\n",
              "  </tbody>\n",
              "</table>\n",
              "<p>408 rows × 11 columns</p>\n",
              "</div>\n",
              "      <button class=\"colab-df-convert\" onclick=\"convertToInteractive('df-2674dd1d-4e1e-4cd4-9fad-bc8a4dc4aa2c')\"\n",
              "              title=\"Convert this dataframe to an interactive table.\"\n",
              "              style=\"display:none;\">\n",
              "        \n",
              "  <svg xmlns=\"http://www.w3.org/2000/svg\" height=\"24px\"viewBox=\"0 0 24 24\"\n",
              "       width=\"24px\">\n",
              "    <path d=\"M0 0h24v24H0V0z\" fill=\"none\"/>\n",
              "    <path d=\"M18.56 5.44l.94 2.06.94-2.06 2.06-.94-2.06-.94-.94-2.06-.94 2.06-2.06.94zm-11 1L8.5 8.5l.94-2.06 2.06-.94-2.06-.94L8.5 2.5l-.94 2.06-2.06.94zm10 10l.94 2.06.94-2.06 2.06-.94-2.06-.94-.94-2.06-.94 2.06-2.06.94z\"/><path d=\"M17.41 7.96l-1.37-1.37c-.4-.4-.92-.59-1.43-.59-.52 0-1.04.2-1.43.59L10.3 9.45l-7.72 7.72c-.78.78-.78 2.05 0 2.83L4 21.41c.39.39.9.59 1.41.59.51 0 1.02-.2 1.41-.59l7.78-7.78 2.81-2.81c.8-.78.8-2.07 0-2.86zM5.41 20L4 18.59l7.72-7.72 1.47 1.35L5.41 20z\"/>\n",
              "  </svg>\n",
              "      </button>\n",
              "      \n",
              "  <style>\n",
              "    .colab-df-container {\n",
              "      display:flex;\n",
              "      flex-wrap:wrap;\n",
              "      gap: 12px;\n",
              "    }\n",
              "\n",
              "    .colab-df-convert {\n",
              "      background-color: #E8F0FE;\n",
              "      border: none;\n",
              "      border-radius: 50%;\n",
              "      cursor: pointer;\n",
              "      display: none;\n",
              "      fill: #1967D2;\n",
              "      height: 32px;\n",
              "      padding: 0 0 0 0;\n",
              "      width: 32px;\n",
              "    }\n",
              "\n",
              "    .colab-df-convert:hover {\n",
              "      background-color: #E2EBFA;\n",
              "      box-shadow: 0px 1px 2px rgba(60, 64, 67, 0.3), 0px 1px 3px 1px rgba(60, 64, 67, 0.15);\n",
              "      fill: #174EA6;\n",
              "    }\n",
              "\n",
              "    [theme=dark] .colab-df-convert {\n",
              "      background-color: #3B4455;\n",
              "      fill: #D2E3FC;\n",
              "    }\n",
              "\n",
              "    [theme=dark] .colab-df-convert:hover {\n",
              "      background-color: #434B5C;\n",
              "      box-shadow: 0px 1px 3px 1px rgba(0, 0, 0, 0.15);\n",
              "      filter: drop-shadow(0px 1px 2px rgba(0, 0, 0, 0.3));\n",
              "      fill: #FFFFFF;\n",
              "    }\n",
              "  </style>\n",
              "\n",
              "      <script>\n",
              "        const buttonEl =\n",
              "          document.querySelector('#df-2674dd1d-4e1e-4cd4-9fad-bc8a4dc4aa2c button.colab-df-convert');\n",
              "        buttonEl.style.display =\n",
              "          google.colab.kernel.accessAllowed ? 'block' : 'none';\n",
              "\n",
              "        async function convertToInteractive(key) {\n",
              "          const element = document.querySelector('#df-2674dd1d-4e1e-4cd4-9fad-bc8a4dc4aa2c');\n",
              "          const dataTable =\n",
              "            await google.colab.kernel.invokeFunction('convertToInteractive',\n",
              "                                                     [key], {});\n",
              "          if (!dataTable) return;\n",
              "\n",
              "          const docLinkHtml = 'Like what you see? Visit the ' +\n",
              "            '<a target=\"_blank\" href=https://colab.research.google.com/notebooks/data_table.ipynb>data table notebook</a>'\n",
              "            + ' to learn more about interactive tables.';\n",
              "          element.innerHTML = '';\n",
              "          dataTable['output_type'] = 'display_data';\n",
              "          await google.colab.output.renderOutput(dataTable, element);\n",
              "          const docLink = document.createElement('div');\n",
              "          docLink.innerHTML = docLinkHtml;\n",
              "          element.appendChild(docLink);\n",
              "        }\n",
              "      </script>\n",
              "    </div>\n",
              "  </div>\n",
              "  "
            ]
          },
          "metadata": {},
          "execution_count": 101
        }
      ]
    },
    {
      "cell_type": "markdown",
      "source": [
        "QUESTION 4 b)"
      ],
      "metadata": {
        "id": "sKvu0z9pHR0P"
      }
    },
    {
      "cell_type": "code",
      "source": [
        "def select_knn_model(train_data, val_data, test_data):\n",
        "  X_train = train_data.drop('Dataset', axis = 1)\n",
        "  y_train = train_data['Dataset']\n",
        "  X_val = val_data.drop('Dataset', axis = 1)\n",
        "  y_val = val_data['Dataset']\n",
        "  X_test = test_data.drop('Dataset', axis = 1)\n",
        "  y_test = test_data['Dataset']\n",
        "  train_accuracies = []\n",
        "  val_accuracies = []\n",
        "  k_values = range(1, 21)\n",
        "\n",
        "  for k in k_values:\n",
        "      knn = KNeighborsClassifier(n_neighbors=k)\n",
        "      knn.fit(X_train, y_train)\n",
        "      train_acc = accuracy_score(y_train, knn.predict(X_train))\n",
        "      val_acc = accuracy_score(y_val, knn.predict(X_val))\n",
        "      train_accuracies.append(train_acc)\n",
        "      val_accuracies.append(val_acc)\n",
        "\n",
        "  plt.plot(k_values, train_accuracies, label='Training Accuracy')\n",
        "  plt.plot(k_values, val_accuracies, label='Validation Accuracy')\n",
        "  plt.xlabel('k')\n",
        "  plt.ylabel('Accuracy')\n",
        "  plt.legend()\n",
        "  plt.show()\n",
        "  best_k = k_values[val_accuracies.index(max(val_accuracies))]\n",
        "  best_knn = KNeighborsClassifier(n_neighbors=best_k)\n",
        "  best_knn.fit(X_train,y_train)\n",
        "  test_acc = accuracy_score(y_test, best_knn.predict(X_test))\n",
        "  print(f\"Test accuracy: {test_acc}\")\n",
        "  return best_knn, test_acc"
      ],
      "metadata": {
        "id": "WHiCTeGVXMAR"
      },
      "execution_count": 104,
      "outputs": []
    },
    {
      "cell_type": "code",
      "source": [
        "select_knn_model(train_data, val_data, test_data)"
      ],
      "metadata": {
        "colab": {
          "base_uri": "https://localhost:8080/",
          "height": 315
        },
        "id": "L2-yN4Q5ee4W",
        "outputId": "158f49bf-3710-40b7-9765-4b18ce069887"
      },
      "execution_count": 108,
      "outputs": [
        {
          "output_type": "display_data",
          "data": {
            "text/plain": [
              "<Figure size 432x288 with 1 Axes>"
            ],
            "image/png": "[encoded data removed]"
          },
          "metadata": {
            "needs_background": "light"
          }
        },
        {
          "output_type": "stream",
          "name": "stdout",
          "text": [
            "Test accuracy: 0.6410256410256411\n"
          ]
        },
        {
          "output_type": "execute_result",
          "data": {
            "text/plain": [
              "(KNeighborsClassifier(n_neighbors=13), 0.6410256410256411)"
            ]
          },
          "metadata": {},
          "execution_count": 108
        }
      ]
    },
    {
      "cell_type": "markdown",
      "source": [
        "QUESTION 4 c)"
      ],
      "metadata": {
        "id": "TOIzHdhaHUw6"
      }
    },
    {
      "cell_type": "code",
      "source": [
        "def select_knn_model(train_data, val_data, test_data):\n",
        "  X_train = train_data.drop('Dataset', axis = 1)\n",
        "  y_train = train_data['Dataset']\n",
        "  X_val = val_data.drop('Dataset', axis = 1)\n",
        "  y_val = val_data['Dataset']\n",
        "  X_test = test_data.drop('Dataset', axis = 1)\n",
        "  y_test = test_data['Dataset']\n",
        "  train_accuracies = []\n",
        "  val_accuracies = []\n",
        "  k_values = range(1, 21)\n",
        "\n",
        "  for k in k_values:\n",
        "      knn = KNeighborsClassifier(n_neighbors=k, metric = 'cosine')\n",
        "      knn.fit(X_train, y_train)\n",
        "      train_acc = accuracy_score(y_train, knn.predict(X_train))\n",
        "      val_acc = accuracy_score(y_val, knn.predict(X_val))\n",
        "      train_accuracies.append(train_acc)\n",
        "      val_accuracies.append(val_acc)\n",
        "\n",
        "  plt.plot(k_values, train_accuracies, label='Training Accuracy')\n",
        "  plt.plot(k_values, val_accuracies, label='Validation Accuracy')\n",
        "  plt.xlabel('k')\n",
        "  plt.ylabel('Accuracy')\n",
        "  plt.legend()\n",
        "  plt.show()\n",
        "  best_k = k_values[val_accuracies.index(max(val_accuracies))]\n",
        "  best_knn = KNeighborsClassifier(n_neighbors=best_k)\n",
        "  best_knn.fit(X_train,y_train)\n",
        "  test_acc = accuracy_score(y_test, best_knn.predict(X_test))\n",
        "  print(f\"Test accuracy: {test_acc}\")\n",
        "  return best_knn, test_acc"
      ],
      "metadata": {
        "id": "MaZCcNt6G7ja"
      },
      "execution_count": 113,
      "outputs": []
    },
    {
      "cell_type": "code",
      "source": [
        "select_knn_model(train_data, val_data, test_data)"
      ],
      "metadata": {
        "colab": {
          "base_uri": "https://localhost:8080/",
          "height": 315
        },
        "id": "WcaZTaB0HCEh",
        "outputId": "076a8b12-4bc1-47d8-fc53-06d0d23a2cbd"
      },
      "execution_count": 110,
      "outputs": [
        {
          "output_type": "display_data",
          "data": {
            "text/plain": [
              "<Figure size 432x288 with 1 Axes>"
            ],
            "image/png": "[encoded data removed]"
          },
          "metadata": {
            "needs_background": "light"
          }
        },
        {
          "output_type": "stream",
          "name": "stdout",
          "text": [
            "Test accuracy: 0.6666666666666666\n"
          ]
        },
        {
          "output_type": "execute_result",
          "data": {
            "text/plain": [
              "(KNeighborsClassifier(n_neighbors=7), 0.6666666666666666)"
            ]
          },
          "metadata": {},
          "execution_count": 110
        }
      ]
    },
    {
      "cell_type": "markdown",
      "source": [
        "QUESTION 5 a)"
      ],
      "metadata": {
        "id": "U9nN55hKHfHV"
      }
    },
    {
      "cell_type": "code",
      "source": [
        "from sklearn.tree import DecisionTreeClassifier"
      ],
      "metadata": {
        "id": "OkBy-L7yHgd2"
      },
      "execution_count": 111,
      "outputs": []
    },
    {
      "cell_type": "code",
      "source": [
        "def train_decision_tree(train_data, val_data, test_data):\n",
        "  X_train = train_data.drop('Dataset', axis = 1)\n",
        "  y_train = train_data['Dataset']\n",
        "  X_val = val_data.drop('Dataset', axis = 1)\n",
        "  y_val = val_data['Dataset']\n",
        "  X_test = test_data.drop('Dataset', axis = 1)\n",
        "  y_test = test_data['Dataset']\n",
        "\n",
        "  clf = DecisionTreeClassifier(criterion='gini', splitter='best', min_samples_leaf=1)\n",
        "  clf.fit(X_train, y_train)\n",
        "  train_acc = clf.score(X_train, y_train)\n",
        "  print(\"Training accuracy: {:.2f}%\".format(train_acc * 100))\n",
        "  \n",
        "  val_acc = clf.score(X_val, y_val)\n",
        "  print(\"Validation accuracy: {:.2f}%\".format(val_acc * 100))\n",
        "  \n",
        "  test_acc = clf.score(X_test, y_test)\n",
        "  print(\"Test accuracy: {:.2f}%\".format(test_acc * 100))"
      ],
      "metadata": {
        "id": "E3pb6DlcIphb"
      },
      "execution_count": 118,
      "outputs": []
    },
    {
      "cell_type": "code",
      "source": [
        "train_decision_tree(train_data, val_data, test_data)"
      ],
      "metadata": {
        "colab": {
          "base_uri": "https://localhost:8080/"
        },
        "id": "9qf0DvXhJMrT",
        "outputId": "d6b3a93c-694f-4f03-c48b-e5d55f897d1c"
      },
      "execution_count": 119,
      "outputs": [
        {
          "output_type": "stream",
          "name": "stdout",
          "text": [
            "Training accuracy: 100.00%\n",
            "Validation accuracy: 63.79%\n",
            "Test accuracy: 62.39%\n"
          ]
        }
      ]
    },
    {
      "cell_type": "code",
      "source": [
        "# min_sample_leaf=2\n",
        "def train_decision_tree(train_data, val_data, test_data):\n",
        "  X_train = train_data.drop('Dataset', axis = 1)\n",
        "  y_train = train_data['Dataset']\n",
        "  X_val = val_data.drop('Dataset', axis = 1)\n",
        "  y_val = val_data['Dataset']\n",
        "  X_test = test_data.drop('Dataset', axis = 1)\n",
        "  y_test = test_data['Dataset']\n",
        "\n",
        "  clf = DecisionTreeClassifier(criterion='gini', splitter='best', min_samples_leaf=2)\n",
        "  clf.fit(X_train, y_train)\n",
        "  train_acc = clf.score(X_train, y_train)\n",
        "  print(\"Training accuracy: {:.2f}%\".format(train_acc * 100))\n",
        "  \n",
        "  val_acc = clf.score(X_val, y_val)\n",
        "  print(\"Validation accuracy: {:.2f}%\".format(val_acc * 100))\n",
        "  \n",
        "  test_acc = clf.score(X_test, y_test)\n",
        "  print(\"Test accuracy: {:.2f}%\".format(test_acc * 100))"
      ],
      "metadata": {
        "id": "OMEv_Gy5KP0P"
      },
      "execution_count": 120,
      "outputs": []
    },
    {
      "cell_type": "code",
      "source": [
        "train_decision_tree(train_data, val_data, test_data)"
      ],
      "metadata": {
        "colab": {
          "base_uri": "https://localhost:8080/"
        },
        "id": "5no2c72JKWqf",
        "outputId": "49c24267-a209-4d55-a1e6-7d7f28845c57"
      },
      "execution_count": 121,
      "outputs": [
        {
          "output_type": "stream",
          "name": "stdout",
          "text": [
            "Training accuracy: 95.34%\n",
            "Validation accuracy: 58.62%\n",
            "Test accuracy: 68.38%\n"
          ]
        }
      ]
    },
    {
      "cell_type": "code",
      "source": [
        "# min_sample_leaf=3\n",
        "def train_decision_tree(train_data, val_data, test_data):\n",
        "  X_train = train_data.drop('Dataset', axis = 1)\n",
        "  y_train = train_data['Dataset']\n",
        "  X_val = val_data.drop('Dataset', axis = 1)\n",
        "  y_val = val_data['Dataset']\n",
        "  X_test = test_data.drop('Dataset', axis = 1)\n",
        "  y_test = test_data['Dataset']\n",
        "\n",
        "  clf = DecisionTreeClassifier(criterion='gini', splitter='best', min_samples_leaf=2)\n",
        "  clf.fit(X_train, y_train)\n",
        "  train_acc = clf.score(X_train, y_train)\n",
        "  print(\"Training accuracy: {:.2f}%\".format(train_acc * 100))\n",
        "  \n",
        "  val_acc = clf.score(X_val, y_val)\n",
        "  print(\"Validation accuracy: {:.2f}%\".format(val_acc * 100))\n",
        "  \n",
        "  test_acc = clf.score(X_test, y_test)\n",
        "  print(\"Test accuracy: {:.2f}%\".format(test_acc * 100))"
      ],
      "metadata": {
        "id": "UxPDtKF3KYNg"
      },
      "execution_count": 122,
      "outputs": []
    },
    {
      "cell_type": "code",
      "source": [
        "train_decision_tree(train_data, val_data, test_data)"
      ],
      "metadata": {
        "colab": {
          "base_uri": "https://localhost:8080/"
        },
        "id": "3AwHWzh_Kb1A",
        "outputId": "2e0d687a-adbe-4169-e8a8-7689464fc22e"
      },
      "execution_count": 123,
      "outputs": [
        {
          "output_type": "stream",
          "name": "stdout",
          "text": [
            "Training accuracy: 95.34%\n",
            "Validation accuracy: 51.72%\n",
            "Test accuracy: 66.67%\n"
          ]
        }
      ]
    },
    {
      "cell_type": "markdown",
      "source": [
        "QUESTION 5 b)"
      ],
      "metadata": {
        "id": "SLQ4isVXLTW1"
      }
    },
    {
      "cell_type": "code",
      "source": [
        "# min_sample_leaf=2\n",
        "def train_decision_tree(train_data, val_data, test_data):\n",
        "  X_train = train_data.drop('Dataset', axis = 1)\n",
        "  y_train = train_data['Dataset']\n",
        "  X_val = val_data.drop('Dataset', axis = 1)\n",
        "  y_val = val_data['Dataset']\n",
        "  X_test = test_data.drop('Dataset', axis = 1)\n",
        "  y_test = test_data['Dataset']\n",
        "\n",
        "  clf = DecisionTreeClassifier(criterion='gini', splitter='best', min_samples_leaf=2)\n",
        "  clf.fit(X_train, y_train)\n",
        "  train_acc = clf.score(X_train, y_train)\n",
        "  print(\"Training accuracy: {:.2f}%\".format(train_acc * 100))\n",
        "  \n",
        "  val_acc = clf.score(X_val, y_val)\n",
        "  print(\"Validation accuracy: {:.2f}%\".format(val_acc * 100))\n",
        "  \n",
        "  test_acc = clf.score(X_test, y_test)\n",
        "  print(\"Test accuracy: {:.2f}%\".format(test_acc * 100))\n",
        "  return clf"
      ],
      "metadata": {
        "id": "fJdNxFRrKp6j"
      },
      "execution_count": 135,
      "outputs": []
    },
    {
      "cell_type": "code",
      "source": [
        "from sklearn.tree import DecisionTreeClassifier, export_graphviz\n",
        "from graphviz import Source\n",
        "\n",
        "clf = train_decision_tree(train_data, val_data, test_data)\n",
        "graph = Source(export_graphviz(clf, out_file=None, feature_names=['Age','Total_Bilirubin','Direct_Bilirubin',\n",
        "                                                  'Alkaline_Phosphotase','Alamine_Aminotransferase',\n",
        "                                                  'Aspartate_Aminotransferase',\n",
        "                                                  'Total_Protiens', 'Albumin',\n",
        "                                                  'Albumin_and_Globulin_Rati', 'Dataset']))\n",
        "graph.format = 'png'\n",
        "graph.render('dt', view=True)"
      ],
      "metadata": {
        "colab": {
          "base_uri": "https://localhost:8080/",
          "height": 89
        },
        "id": "DAsLq6HpNP2h",
        "outputId": "8a07117b-a759-4a00-9dcd-17c924ccddd0"
      },
      "execution_count": 141,
      "outputs": [
        {
          "output_type": "stream",
          "name": "stdout",
          "text": [
            "Training accuracy: 95.34%\n",
            "Validation accuracy: 58.62%\n",
            "Test accuracy: 66.67%\n"
          ]
        },
        {
          "output_type": "execute_result",
          "data": {
            "text/plain": [
              "'dt.png'"
            ],
            "application/vnd.google.colaboratory.intrinsic+json": {
              "type": "string"
            }
          },
          "metadata": {},
          "execution_count": 141
        }
      ]
    },
    {
      "cell_type": "markdown",
      "source": [
        "QUESTION 6"
      ],
      "metadata": {
        "id": "oo_QwG3rPe1X"
      }
    },
    {
      "cell_type": "code",
      "source": [
        "from sklearn.linear_model import LogisticRegression\n",
        "from sklearn import preprocessing\n",
        "\n",
        "def train_logreg_model(train_data, val_data, test_data):\n",
        "  X_train = train_data.drop('Dataset', axis = 1)\n",
        "  y_train = train_data['Dataset']\n",
        "  X_val = val_data.drop('Dataset', axis = 1)\n",
        "  y_val = val_data['Dataset']\n",
        "  X_test = test_data.drop('Dataset', axis = 1)\n",
        "  y_test = test_data['Dataset']\n",
        "\n",
        "  logistic_regression = LogisticRegression(random_state=0, max_iter = 10000).fit(X_train, y_train)\n",
        "  logistic_regression.fit(X_train, y_train)\n",
        "\n",
        "  train_acc = accuracy_score(y_train, logistic_regression.predict(X_train))\n",
        "  val_acc = accuracy_score(y_val, logistic_regression.predict(X_val))\n",
        "  test_acc = accuracy_score(y_test, logistic_regression.predict(X_test))\n",
        "  \n",
        "  print(\"Training accuracy: {:.2f}%\".format(train_acc * 100))\n",
        "  print(\"Validation accuracy: {:.2f}%\".format(val_acc * 100))\n",
        "  print(\"Test accuracy: {:.2f}%\".format(test_acc * 100))"
      ],
      "metadata": {
        "id": "bcygF736PotP"
      },
      "execution_count": 161,
      "outputs": []
    },
    {
      "cell_type": "code",
      "source": [
        " train_logreg_model(train_data, val_data, test_data)"
      ],
      "metadata": {
        "colab": {
          "base_uri": "https://localhost:8080/"
        },
        "id": "BSL1NqpfQZJb",
        "outputId": "9069b327-3470-4885-a4d8-89ff8e5b2c5e"
      },
      "execution_count": 162,
      "outputs": [
        {
          "output_type": "stream",
          "name": "stdout",
          "text": [
            "Training accuracy: 73.53%\n",
            "Validation accuracy: 63.79%\n",
            "Test accuracy: 70.09%\n"
          ]
        }
      ]
    }
  ]
}