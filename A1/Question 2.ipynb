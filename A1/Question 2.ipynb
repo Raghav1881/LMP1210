{
  "cells": [
    {
      "cell_type": "code",
      "execution_count": 3,
      "metadata": {
        "id": "uxZyex73RIvs"
      },
      "outputs": [],
      "source": [
        "# numpy import statement\n",
        "import numpy as np\n",
        "np.random.seed(1210)"
      ]
    },
    {
      "cell_type": "markdown",
      "metadata": {
        "id": "my_ueSW4FW3h"
      },
      "source": [
        "**Note**: Each question has some test cases, to help you figure out if your implementation is correct\n"
      ]
    },
    {
      "cell_type": "markdown",
      "metadata": {
        "id": "0PncKuEh0qBz"
      },
      "source": [
        "## Algorithm questions"
      ]
    },
    {
      "cell_type": "markdown",
      "metadata": {
        "id": "d2X_1CZDfpKY"
      },
      "source": [
        "Implement the following algorithms according to their docstring.\n",
        "\n",
        "Please, only use on basic list/dictionary operations, do not use any fancy libraries that solve this problem for you!"
      ]
    },
    {
      "cell_type": "code",
      "execution_count": 4,
      "metadata": {
        "id": "imvKFUYALFdW"
      },
      "outputs": [],
      "source": [
        "def extract_odd_values(input_list):\n",
        "  \"\"\"\n",
        "  Return a new list which includes odd elements from input_list.\n",
        "  Arguments:\n",
        "    input_list: list, a list of elements\n",
        "  Returns:\n",
        "    new_list: list, only including odd values of the input_list\n",
        "  \"\"\"\n",
        "  new_list = [x for x in input_list if x % 2 != 0]\n",
        "  return new_list"
      ]
    },
    {
      "cell_type": "code",
      "execution_count": 5,
      "metadata": {
        "colab": {
          "base_uri": "https://localhost:8080/"
        },
        "id": "sI3dlqFwLGmd",
        "outputId": "367b9284-75cf-4144-c7ce-faba27d13d78"
      },
      "outputs": [
        {
          "name": "stdout",
          "output_type": "stream",
          "text": [
            "[1, 3, 2, 4, 5, 6]\n",
            "[1, 3, 5]\n",
            "[]\n",
            "[]\n"
          ]
        }
      ],
      "source": [
        "# test cases: extract_odd_values\n",
        "l1 = [1,3,2,4,5,6]\n",
        "l1_invert = extract_odd_values(l1)\n",
        "print(l1) # should be [1,3,2,4,5,6]\n",
        "print(l1_invert) # should be [1,3,5]\n",
        "l2 = []\n",
        "l2_invert = []\n",
        "print(l2) # should be []\n",
        "print(l2_invert) # should be []"
      ]
    },
    {
      "cell_type": "code",
      "execution_count": 6,
      "metadata": {
        "id": "PFYLzR9tRK3L"
      },
      "outputs": [],
      "source": [
        "def has_duplicate(input_list):\n",
        "  \"\"\"\n",
        "  Return True if input_list has any duplicates, otherwise return False.\n",
        "  Arguments:\n",
        "    input_list: list, a list of elements\n",
        "  Returns:\n",
        "    duplicate: boolean, whether or not input_list has duplicates\n",
        "  \"\"\"\n",
        "  temp_list = []\n",
        "  for k in input_list:\n",
        "    if k not in temp_list:\n",
        "      temp_list.append(k)\n",
        "    else:\n",
        "      return True\n",
        "  return False"
      ]
    },
    {
      "cell_type": "code",
      "execution_count": 7,
      "metadata": {
        "colab": {
          "base_uri": "https://localhost:8080/"
        },
        "id": "DQBY0NZxME8R",
        "outputId": "4383247f-3970-4c57-b93f-8dfdc36759e3"
      },
      "outputs": [
        {
          "name": "stdout",
          "output_type": "stream",
          "text": [
            "False\n",
            "True\n",
            "True\n"
          ]
        }
      ],
      "source": [
        "# test cases for has_duplicate\n",
        "l1 = ['A','T','C','G']\n",
        "print(has_duplicate(l1)) # should be False\n",
        "l2 = ['T','T','C','A']\n",
        "print(has_duplicate(l2)) # should be True\n",
        "l3 = ['A','X','Y','A']\n",
        "print(has_duplicate(l3)) # should be True"
      ]
    },
    {
      "cell_type": "code",
      "execution_count": 8,
      "metadata": {
        "id": "uwx0F9jjAvsB"
      },
      "outputs": [],
      "source": [
        "def invert_dict(input_dict):\n",
        "  \"\"\"\n",
        "  Return a new dictionary whose key, value pairs are equal to the \n",
        "  value, key pairs of input_dict.\n",
        "  This only works if input_dict has no duplicates in its values.\n",
        "  if input_dict has any duplicate values, raise a ValueError.\n",
        "  Arguments:\n",
        "    input_dict: dict, a dictionary\n",
        "  Returns:\n",
        "    new_dict: dict, a dictionary that is the inverse of input_dict\n",
        "  \"\"\"\n",
        "  temp_list = list(input_dict.values())\n",
        "  if has_duplicate(temp_list):\n",
        "    raise ValueError\n",
        "  else:\n",
        "    new_dict = {v: k for k, v in input_dict.items()}\n",
        "    return new_dict"
      ]
    },
    {
      "cell_type": "code",
      "execution_count": 9,
      "metadata": {
        "colab": {
          "base_uri": "https://localhost:8080/",
          "height": 401
        },
        "id": "OjMtghT-MZyT",
        "outputId": "8e3fadf2-8ade-43c5-9320-cb42ce2d6d85"
      },
      "outputs": [
        {
          "name": "stdout",
          "output_type": "stream",
          "text": [
            "{'A': 0, 'C': 1, 'T': 2, 'G': 3}\n",
            "{0: 'A', 1: 'C', 2: 'T', 3: 'G'}\n"
          ]
        },
        {
          "ename": "ValueError",
          "evalue": "",
          "output_type": "error",
          "traceback": [
            "\u001b[1;31m---------------------------------------------------------------------------\u001b[0m",
            "\u001b[1;31mValueError\u001b[0m                                Traceback (most recent call last)",
            "Cell \u001b[1;32mIn[9], line 7\u001b[0m\n\u001b[0;32m      5\u001b[0m \u001b[39mprint\u001b[39m(d1_invert) \u001b[39m# should be {0:\"A\", 1:\"C\", 2:\"T\", 3:\"G\"}\u001b[39;00m\n\u001b[0;32m      6\u001b[0m d2 \u001b[39m=\u001b[39m {\u001b[39m\"\u001b[39m\u001b[39mA\u001b[39m\u001b[39m\"\u001b[39m:\u001b[39m0\u001b[39m,\u001b[39m\"\u001b[39m\u001b[39mC\u001b[39m\u001b[39m\"\u001b[39m:\u001b[39m0\u001b[39m,\u001b[39m\"\u001b[39m\u001b[39mT\u001b[39m\u001b[39m\"\u001b[39m:\u001b[39m2\u001b[39m,\u001b[39m\"\u001b[39m\u001b[39mG\u001b[39m\u001b[39m\"\u001b[39m:\u001b[39m3\u001b[39m}\n\u001b[1;32m----> 7\u001b[0m d2_invert \u001b[39m=\u001b[39m invert_dict(d2) \u001b[39m# should raise ValueError\u001b[39;00m\n\u001b[0;32m      8\u001b[0m \u001b[39mprint\u001b[39m(d2) \u001b[39m# should not be executed\u001b[39;00m\n\u001b[0;32m      9\u001b[0m \u001b[39mprint\u001b[39m(d2_invert) \u001b[39m# should not be executed\u001b[39;00m\n",
            "Cell \u001b[1;32mIn[8], line 14\u001b[0m, in \u001b[0;36minvert_dict\u001b[1;34m(input_dict)\u001b[0m\n\u001b[0;32m     12\u001b[0m temp_list \u001b[39m=\u001b[39m \u001b[39mlist\u001b[39m(input_dict\u001b[39m.\u001b[39mvalues())\n\u001b[0;32m     13\u001b[0m \u001b[39mif\u001b[39;00m has_duplicate(temp_list):\n\u001b[1;32m---> 14\u001b[0m   \u001b[39mraise\u001b[39;00m \u001b[39mValueError\u001b[39;00m\n\u001b[0;32m     15\u001b[0m \u001b[39melse\u001b[39;00m:\n\u001b[0;32m     16\u001b[0m   new_dict \u001b[39m=\u001b[39m {v: k \u001b[39mfor\u001b[39;00m k, v \u001b[39min\u001b[39;00m input_dict\u001b[39m.\u001b[39mitems()}\n",
            "\u001b[1;31mValueError\u001b[0m: "
          ]
        }
      ],
      "source": [
        "# test cases for invert_dict\n",
        "d1 = {\"A\":0,\"C\":1,\"T\":2,\"G\":3}\n",
        "d1_invert = invert_dict(d1)\n",
        "print(d1) # should be {\"A\":0,\"C\":1,\"T\":2,\"G\":3}\n",
        "print(d1_invert) # should be {0:\"A\", 1:\"C\", 2:\"T\", 3:\"G\"}\n",
        "d2 = {\"A\":0,\"C\":0,\"T\":2,\"G\":3}\n",
        "d2_invert = invert_dict(d2) # should raise ValueError\n",
        "print(d2) # should not be executed\n",
        "print(d2_invert) # should not be executed"
      ]
    },
    {
      "cell_type": "code",
      "execution_count": 10,
      "metadata": {
        "id": "GJLZ8ITvMASt"
      },
      "outputs": [],
      "source": [
        "def mutagenesis(seq,mut_dict):\n",
        "  \"\"\"\n",
        "  Return a new sequence that is identical to seq (a DNA sequence) but is \n",
        "  mutated according to mut_dict, a dictionary that maps nucleotide bases \n",
        "  ('A','C','T','G') to other (mutated) bases.\n",
        "  Raise a ValueError if input_string is not a valid DNA sequence (contains\n",
        "  a character other than ACTG).\n",
        "  If a base is absent from mut_dict, do NOT mutate it.\n",
        "  Note: this is mutation in the biological sense, not referring to python\n",
        "  mutability.\n",
        "  Arguments:\n",
        "    seq: str, input sequence of bases\n",
        "    mut_dict: dict, maps original bases to new bases\n",
        "  Returns:\n",
        "    new_seq: str, sequence where the bases have been mutated\n",
        "  \"\"\"\n",
        "  new_seq = \"\"\n",
        "  if not all(c in \"ACTG\" for c in seq):\n",
        "    raise ValueError\n",
        "\n",
        "  for base in seq:\n",
        "    new_base = mut_dict.get(base, base)\n",
        "    new_seq += new_base\n",
        "  return new_seq\n"
      ]
    },
    {
      "cell_type": "code",
      "execution_count": 11,
      "metadata": {
        "colab": {
          "base_uri": "https://localhost:8080/",
          "height": 401
        },
        "id": "AcblXX73Edh3",
        "outputId": "6dcedf28-1d1a-42af-bbc5-6e17431059de"
      },
      "outputs": [
        {
          "name": "stdout",
          "output_type": "stream",
          "text": [
            "AACTGACTTAGCA\n",
            "TTCAGTCAATGCT\n"
          ]
        },
        {
          "ename": "ValueError",
          "evalue": "",
          "output_type": "error",
          "traceback": [
            "\u001b[1;31m---------------------------------------------------------------------------\u001b[0m",
            "\u001b[1;31mValueError\u001b[0m                                Traceback (most recent call last)",
            "Cell \u001b[1;32mIn[11], line 12\u001b[0m\n\u001b[0;32m     10\u001b[0m \u001b[39mprint\u001b[39m(mut_seq1) \u001b[39m# should be \"TTCAGTCAATGCT\"\u001b[39;00m\n\u001b[0;32m     11\u001b[0m seq2 \u001b[39m=\u001b[39m \u001b[39m\"\u001b[39m\u001b[39mACTGM5\u001b[39m\u001b[39m\"\u001b[39m\n\u001b[1;32m---> 12\u001b[0m mut_seq2 \u001b[39m=\u001b[39m mutagenesis(seq2,mut_dict) \u001b[39m# should raise ValueError\u001b[39;00m\n\u001b[0;32m     13\u001b[0m \u001b[39mprint\u001b[39m(seq2) \u001b[39m# should not be executed\u001b[39;00m\n\u001b[0;32m     14\u001b[0m \u001b[39mprint\u001b[39m(mut_seq2) \u001b[39m# should not be executed\u001b[39;00m\n",
            "Cell \u001b[1;32mIn[10], line 19\u001b[0m, in \u001b[0;36mmutagenesis\u001b[1;34m(seq, mut_dict)\u001b[0m\n\u001b[0;32m     17\u001b[0m new_seq \u001b[39m=\u001b[39m \u001b[39m\"\u001b[39m\u001b[39m\"\u001b[39m\n\u001b[0;32m     18\u001b[0m \u001b[39mif\u001b[39;00m \u001b[39mnot\u001b[39;00m \u001b[39mall\u001b[39m(c \u001b[39min\u001b[39;00m \u001b[39m\"\u001b[39m\u001b[39mACTG\u001b[39m\u001b[39m\"\u001b[39m \u001b[39mfor\u001b[39;00m c \u001b[39min\u001b[39;00m seq):\n\u001b[1;32m---> 19\u001b[0m   \u001b[39mraise\u001b[39;00m \u001b[39mValueError\u001b[39;00m\n\u001b[0;32m     21\u001b[0m \u001b[39mfor\u001b[39;00m base \u001b[39min\u001b[39;00m seq:\n\u001b[0;32m     22\u001b[0m   new_base \u001b[39m=\u001b[39m mut_dict\u001b[39m.\u001b[39mget(base, base)\n",
            "\u001b[1;31mValueError\u001b[0m: "
          ]
        }
      ],
      "source": [
        "# test cases for mutatagenesis\n",
        "# A becomes T, T becomes A, other bases are unchanged\n",
        "mut_dict = {\n",
        "    \"A\": \"T\",\n",
        "    \"T\": \"A\",\n",
        "}\n",
        "seq1 = \"AACTGACTTAGCA\"\n",
        "mut_seq1 = mutagenesis(seq1,mut_dict)\n",
        "print(seq1) # should be \"AACTGACTTAGCA\"\n",
        "print(mut_seq1) # should be \"TTCAGTCAATGCT\"\n",
        "seq2 = \"ACTGM5\"\n",
        "mut_seq2 = mutagenesis(seq2,mut_dict) # should raise ValueError\n",
        "print(seq2) # should not be executed\n",
        "print(mut_seq2) # should not be executed"
      ]
    },
    {
      "cell_type": "markdown",
      "metadata": {
        "id": "nRzEqu1ofkpd"
      },
      "source": [
        "## Numpy Programming Question"
      ]
    },
    {
      "cell_type": "markdown",
      "metadata": {
        "id": "YuJf9vkVflHv"
      },
      "source": [
        "### Mins and Sums\n",
        "\n",
        "In this question, you must implement two related functions. The first function, `min_then_sum`, computes the min over user-specified axes `axes` for two different arrays, then it adds the resulting arrays together (elementwise). The second function, `sum_then_min`, does the same thing but in opposite order: first it computes the sum over user-specified axes `axes`, then it takes the elementwise min of the resulting arrays."
      ]
    },
    {
      "cell_type": "code",
      "execution_count": 12,
      "metadata": {
        "id": "_iDinGpe4rTj"
      },
      "outputs": [],
      "source": [
        "def min_then_sum(array_1,array_2,axes):\n",
        "  \"\"\"\n",
        "  Take min of array_1 and array_2 over axes, then return the elementwise \n",
        "  sum of the resulting arrays.\n",
        "  Hint: if a, b are arrays with same shape, a+b is elementwise sum of a and b.\n",
        "  \"\"\" \n",
        "  assert array_1.shape == array_2.shape\n",
        "  min_1, min_2 = np.min(array_1, axis = axes), np.min(array_2, axis = axes)\n",
        "  array_sum = min_1 + min_2\n",
        "  return array_sum\n"
      ]
    },
    {
      "cell_type": "code",
      "execution_count": 13,
      "metadata": {
        "colab": {
          "base_uri": "https://localhost:8080/"
        },
        "id": "5cA_kUprTb8k",
        "outputId": "99e98ef7-1927-41fb-89b5-26bb014d5df9"
      },
      "outputs": [
        {
          "name": "stdout",
          "output_type": "stream",
          "text": [
            "2.0\n",
            "[ 1.  6. 11. 16.]\n"
          ]
        }
      ],
      "source": [
        "# min_then_sum tests\n",
        "a1 = np.array([1.,2.,3.])\n",
        "b1 = np.array([1.,1.,1.])\n",
        "mts1 = min_then_sum(a1,b1,(0,))\n",
        "print(mts1) # should be 2.0\n",
        "a2 = np.arange(40).reshape(2,4,5) # 3-dimensional array with shape (2,4,5)\n",
        "b2 = np.ones([40]).reshape(2,4,5) # 3-dimensional array with shape (2,4,5)\n",
        "mts2 = min_then_sum(a2,b2,(0,2)) # 1-dimensional array with shape (4,)\n",
        "print(mts2) # should be [ 1.  6. 11. 16.]"
      ]
    },
    {
      "cell_type": "code",
      "execution_count": 14,
      "metadata": {
        "id": "x6iQTl95TbI5"
      },
      "outputs": [],
      "source": [
        "def sum_then_min(array_1,array_2,axes):\n",
        "  \"\"\"\n",
        "  Take sum of array_1 and array_2 over axes, then return the elementwise\n",
        "  min of the resulting arrays.\n",
        "  Hint: if a, b are arrays with same shape, np.minimum(a,b) is elementwise min \n",
        "  of a and b.\n",
        "  \"\"\"\n",
        "  assert array_1.shape == array_2.shape\n",
        "  min_1, min_2 = np.sum(array_1, axis = axes), np.sum(array_2, axis = axes)\n",
        "  total_min = np.minimum(min_1, min_2)\n",
        "  return total_min\n",
        "  "
      ]
    },
    {
      "cell_type": "code",
      "execution_count": 15,
      "metadata": {
        "colab": {
          "base_uri": "https://localhost:8080/"
        },
        "id": "jpjOjR6eUcl4",
        "outputId": "2cbcd1ac-ddcb-4cfd-8f7f-f4f83c3a500b"
      },
      "outputs": [
        {
          "name": "stdout",
          "output_type": "stream",
          "text": [
            "3.0\n",
            "[10. 10. 10. 10.]\n"
          ]
        }
      ],
      "source": [
        "# sum_then_min tests\n",
        "a1 = np.array([1.,2.,3.])\n",
        "b1 = np.array([1.,1.,1.])\n",
        "stm1 = sum_then_min(a1,b1,(0,))\n",
        "print(stm1) # should be 3.0\n",
        "a2 = np.arange(40).reshape(2,4,5) # 3-dimensional array with shape (2,4,5)\n",
        "b2 = np.ones([40]).reshape(2,4,5) # 3-dimensional array with shape (2,4,5)\n",
        "stm2 = sum_then_min(a2,b2,(0,2)) # 1-dimensional array with shape (4,)\n",
        "print(stm2) # should be [10. 10. 10. 10.]"
      ]
    },
    {
      "cell_type": "markdown",
      "metadata": {
        "id": "kwBYNneDYmW4"
      },
      "source": [
        "### Computing Mean and Variance of a Discrete Distribution\n",
        "\n",
        "A discrete distribution is defined over a list of values, often called its **support**. Each item in the support has an associated **probability mass function**, which we will shorten to **pmf**.\n",
        "\n",
        "The mean of the distribution (a scalar) can be computed with the following equation:\n",
        "\n",
        "$$ \\texttt{mean} = \\sum_i \\texttt{pmf[i]} * \\texttt{support[i]}$$\n",
        "\n",
        "Similary, the variance of the distribution (a scalar) can be computed with this equation:\n",
        "\n",
        "$$ \\texttt{variance} = \\sum_i \\texttt{pmf[i]} * (\\texttt{support[i]} - \\texttt{mean})^2 $$\n",
        "\n",
        "Implement these equations as the functions `compute_mean` and `compute_variance`.\n",
        "\n",
        "Note: you should not use a loop, instead use the `np.sum()` function!"
      ]
    },
    {
      "cell_type": "code",
      "execution_count": 16,
      "metadata": {
        "id": "gQk9SMATzrUG"
      },
      "outputs": [],
      "source": [
        "def compute_mean(support,pmf):\n",
        "  \"\"\"\n",
        "  Compute mean of the multinomial distribution\n",
        "  Arguments:\n",
        "    support: 1D numpy array, support of distribution\n",
        "    pmf: 1D numpy array, probability mass function\n",
        "  Returns:\n",
        "    mean: float, the mean of the distribution\n",
        "  \"\"\"\n",
        "  assert len(support) == len(pmf)\n",
        "  mean = np.sum(pmf * support)\n",
        "  return mean"
      ]
    },
    {
      "cell_type": "code",
      "execution_count": 17,
      "metadata": {
        "colab": {
          "base_uri": "https://localhost:8080/"
        },
        "id": "16N3ZoncU4RN",
        "outputId": "b65b1265-4013-43de-c462-312577522af3"
      },
      "outputs": [
        {
          "name": "stdout",
          "output_type": "stream",
          "text": [
            "2.0\n",
            "1.2\n"
          ]
        }
      ],
      "source": [
        "# compute_mean tests\n",
        "support1 = np.arange(5)\n",
        "pmf1 = np.array([0.2,0.2,0.2,0.2,0.2])\n",
        "mean1 = compute_mean(support1,pmf1)\n",
        "print(mean1) # should be 2.0\n",
        "support2 = np.arange(3)\n",
        "pmf2 = np.array([0.3,0.2,0.5])\n",
        "mean2 = compute_mean(support2,pmf2)\n",
        "print(mean2) # should be 1.2"
      ]
    },
    {
      "cell_type": "code",
      "execution_count": 18,
      "metadata": {
        "id": "ykZP-b5eA21Y"
      },
      "outputs": [],
      "source": [
        "def compute_variance(support,pmf):\n",
        "  \"\"\"\n",
        "  Compute variance of the multinomial distribution\n",
        "  Arguments:\n",
        "    support: 1D numpy array, support of distribution\n",
        "    pmf: 1D numpy array, probability mass function\n",
        "  Returns:\n",
        "    variance: float, the variance of the distribution\n",
        "  \"\"\"\n",
        "  assert len(support) == len(pmf)\n",
        "  variance = np.sum(pmf * (support - compute_mean(support, pmf))**2)\n",
        "  return variance"
      ]
    },
    {
      "cell_type": "code",
      "execution_count": 19,
      "metadata": {
        "colab": {
          "base_uri": "https://localhost:8080/"
        },
        "id": "dYACc7scWzBI",
        "outputId": "ebcb156a-a653-480b-a09a-03d50af1e52d"
      },
      "outputs": [
        {
          "name": "stdout",
          "output_type": "stream",
          "text": [
            "2.0\n",
            "0.76\n"
          ]
        }
      ],
      "source": [
        "# compute_variance tests\n",
        "support1 = np.arange(5)\n",
        "pmf1 = np.array([0.2,0.2,0.2,0.2,0.2])\n",
        "var1 = compute_variance(support1,pmf1)\n",
        "print(var1) # should be 2.0\n",
        "support2 = np.arange(3)\n",
        "pmf2 = np.array([0.3,0.2,0.5])\n",
        "var2 = compute_variance(support2,pmf2)\n",
        "print(var2) # should be 0.76"
      ]
    },
    {
      "cell_type": "markdown",
      "metadata": {
        "id": "oi3ckrWGeqVL"
      },
      "source": [
        "Now, apply your `compute_mean` and `compute_variance` functions to estimate the mean and variance of a distribution from samples, by completing the `estimate_distribution` function below:"
      ]
    },
    {
      "cell_type": "code",
      "execution_count": 20,
      "metadata": {
        "id": "-Afkhl9_XDU8"
      },
      "outputs": [],
      "source": [
        "from numpy.core.fromnumeric import mean\n",
        "\n",
        "def estimate_distribution(support, true_pmf, num_samples):\n",
        "  \"\"\"\n",
        "  Draw IID samples from the distribution, estimate the distribution's parameters,\n",
        "  and compute and print the true and estimated mean and variance.\n",
        "  Arguments:\n",
        "    support: 1D numpy array, support of distribution\n",
        "    true_pmf: 1D numpy array, true probability mass function\n",
        "    num_samples: int, number of samples to draw\n",
        "  Returns:\n",
        "    None\n",
        "  \"\"\"\n",
        "  assert len(support) == len(true_pmf)\n",
        "  assert num_samples > 0\n",
        "  # compute true mean and variance using helper functions\n",
        "  true_mean = compute_mean(support, true_pmf)\n",
        "  true_variance = compute_variance(support, true_pmf)\n",
        "  # sample data from the true distribution\n",
        "  # samples is an array of size [num_samples,len(support)]\n",
        "  samples = np.random.multinomial(1,true_pmf,size=(num_samples,))\n",
        "  # estimate pmf by taking mean across samples (the 0th axis)\n",
        "  est_pmf = np.sum(samples, axis = 0)/num_samples\n",
        "  # compute estimated mean and variance using helper functions\n",
        "  est_mean = compute_mean(support, est_pmf)\n",
        "  est_variance = compute_variance(support, est_pmf)\n",
        "  # print out the results\n",
        "  print(f\"True Statistics: Mean = {true_mean}, Variance = {true_variance}\")\n",
        "  print(f\"Estimated Statistics: Mean = {est_mean}, Variance = {est_variance}\")"
      ]
    },
    {
      "cell_type": "code",
      "execution_count": 25,
      "metadata": {
        "colab": {
          "base_uri": "https://localhost:8080/"
        },
        "id": "LJn4-IJcXP7m",
        "outputId": "ba45e732-9564-48ad-8e22-42266b48eb19"
      },
      "outputs": [
        {
          "name": "stdout",
          "output_type": "stream",
          "text": [
            "True Statistics: Mean = 2.0, Variance = 2.0\n",
            "Estimated Statistics: Mean = 1.994, Variance = 1.9439640000000002\n",
            "True Statistics: Mean = 1.2, Variance = 0.76\n",
            "Estimated Statistics: Mean = 1.236, Variance = 0.7383040000000001\n"
          ]
        }
      ],
      "source": [
        "# estimate_distribution tests\n",
        "# the estimated means and variances should be close to the real ones\n",
        "# there might be some inaccuracy since the estimate has some randomness\n",
        "num_samples = 1000\n",
        "support1 = np.arange(5)\n",
        "pmf1 = np.array([0.2,0.2,0.2,0.2,0.2])\n",
        "estimate_distribution(support1,pmf1,num_samples)\n",
        "support2 = np.arange(3)\n",
        "pmf2 = np.array([0.3,0.2,0.5])\n",
        "estimate_distribution(support2,pmf2,num_samples)"
      ]
    }
  ],
  "metadata": {
    "colab": {
      "provenance": []
    },
    "kernelspec": {
      "display_name": "Python 3",
      "language": "python",
      "name": "python3"
    },
    "language_info": {
      "codemirror_mode": {
        "name": "ipython",
        "version": 3
      },
      "file_extension": ".py",
      "mimetype": "text/x-python",
      "name": "python",
      "nbconvert_exporter": "python",
      "pygments_lexer": "ipython3",
      "version": "3.10.9"
    },
    "vscode": {
      "interpreter": {
        "hash": "e25407ddcb10e955a01a8efff4876eef907cb5db5b9cf3bcbc30d74df6ec3148"
      }
    }
  },
  "nbformat": 4,
  "nbformat_minor": 0
}
